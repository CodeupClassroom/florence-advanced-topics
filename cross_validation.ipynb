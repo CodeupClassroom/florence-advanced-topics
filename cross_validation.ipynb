{
 "cells": [
  {
   "cell_type": "markdown",
   "id": "55a55f43-7a33-4892-9173-662a450ff52c",
   "metadata": {},
   "source": [
    "<div style=\"display: grid; grid-template-columns: repeat(4, 1fr); gap: 1em;\">\n",
    "    <div style=\"background: blue;\"></div>\n",
    "</div>"
   ]
  },
  {
   "cell_type": "markdown",
   "id": "86da1f31-2ddb-4ea0-83ec-47d6df9c4dbb",
   "metadata": {},
   "source": [
    "## Setup"
   ]
  },
  {
   "cell_type": "markdown",
   "id": "9f32a0ba-1196-4b31-a9c3-cacf25573d3a",
   "metadata": {},
   "source": [
    "We'll use the mpg dataset and predict whether a car has automatic or manual transmission."
   ]
  },
  {
   "cell_type": "code",
   "execution_count": 1,
   "id": "5956f40e-49f1-4a8a-9696-fd652b9b5672",
   "metadata": {},
   "outputs": [],
   "source": [
    "import numpy as np\n",
    "import pandas as pd\n",
    "import matplotlib.pyplot as plt\n",
    "import pydataset\n",
    "\n",
    "from sklearn.model_selection import cross_val_score, GridSearchCV, train_test_split\n",
    "from sklearn.tree import DecisionTreeClassifier\n",
    "from sklearn.neighbors import KNeighborsClassifier"
   ]
  },
  {
   "cell_type": "code",
   "execution_count": 2,
   "id": "c507430f-fde1-43d1-9943-a25452dcb312",
   "metadata": {},
   "outputs": [],
   "source": [
    "mpg = pydataset.data('mpg')\n",
    "mpg.trans = np.where(mpg.trans.str.startswith('auto'), 'auto', 'manual')"
   ]
  },
  {
   "cell_type": "code",
   "execution_count": 3,
   "id": "f15de520-e4ea-4779-8b1c-42860c3d71db",
   "metadata": {},
   "outputs": [],
   "source": [
    "X, y = mpg[['displ', 'cyl', 'cty', 'hwy']], mpg.trans"
   ]
  },
  {
   "cell_type": "code",
   "execution_count": 4,
   "id": "4a2933ce-a6de-42d9-b3a3-ed7ae942cf92",
   "metadata": {},
   "outputs": [],
   "source": [
    "X_train, X_test, y_train, y_test = train_test_split(X, y, random_state=123)"
   ]
  },
  {
   "cell_type": "markdown",
   "id": "47497abe-0d11-4e6e-813e-e24330e2fe5d",
   "metadata": {},
   "source": [
    "## `cross_val_score`"
   ]
  },
  {
   "cell_type": "code",
   "execution_count": 6,
   "id": "fe2322e6-2d6c-41a6-a640-01fc30cc1315",
   "metadata": {},
   "outputs": [
    {
     "data": {
      "text/plain": [
       "0.6114285714285714"
      ]
     },
     "execution_count": 6,
     "metadata": {},
     "output_type": "execute_result"
    }
   ],
   "source": [
    "clf = DecisionTreeClassifier(max_depth=4)\n",
    "cross_val_score(clf, X_train, y_train, cv=5).mean()"
   ]
  },
  {
   "cell_type": "code",
   "execution_count": 7,
   "id": "aa2ab63d-c277-46c7-a2e6-e14e4eca4d17",
   "metadata": {},
   "outputs": [
    {
     "data": {
      "text/plain": [
       "<AxesSubplot:xlabel='depth'>"
      ]
     },
     "execution_count": 7,
     "metadata": {},
     "output_type": "execute_result"
    },
    {
     "data": {
      "image/png": "[encoded data removed]",
      "text/plain": [
       "<Figure size 432x288 with 1 Axes>"
      ]
     },
     "metadata": {
      "needs_background": "light"
     },
     "output_type": "display_data"
    }
   ],
   "source": [
    "results = []\n",
    "for depth in range(1, 21):\n",
    "    clf = DecisionTreeClassifier(max_depth=depth)\n",
    "    result = {'depth': depth}\n",
    "    result['score'] = cross_val_score(clf, X_train, y_train, cv=5).mean()\n",
    "    results.append(result)\n",
    "        \n",
    "pd.DataFrame(results).set_index('depth').score.plot(xticks=range(1, 21))"
   ]
  },
  {
   "cell_type": "markdown",
   "id": "d703fff5-38b9-4528-b1a0-0e1bc52cfde2",
   "metadata": {},
   "source": [
    "## Grid Search"
   ]
  },
  {
   "cell_type": "code",
   "execution_count": 8,
   "id": "d0a4b085-161b-4ca3-8ffb-43b5cde1ca52",
   "metadata": {},
   "outputs": [
    {
     "data": {
      "text/plain": [
       "GridSearchCV(cv=5, estimator=KNeighborsClassifier(),\n",
       "             param_grid={'n_neighbors': range(1, 21)})"
      ]
     },
     "execution_count": 8,
     "metadata": {},
     "output_type": "execute_result"
    }
   ],
   "source": [
    "clf = KNeighborsClassifier()\n",
    "# keys whose names are the names of hyperparameters\n",
    "# values are the range of values to search through\n",
    "params = {'n_neighbors': range(1, 21)}\n",
    "grid = GridSearchCV(clf, params, cv=5)\n",
    "grid.fit(X_train, y_train)"
   ]
  },
  {
   "cell_type": "code",
   "execution_count": 9,
   "id": "6b132639-fbdb-49f6-a0fe-bff83b920841",
   "metadata": {},
   "outputs": [
    {
     "data": {
      "text/plain": [
       "array([0.59428571, 0.62857143, 0.60571429, 0.62857143, 0.61142857,\n",
       "       0.61142857, 0.57142857, 0.62285714, 0.6       , 0.64      ,\n",
       "       0.62285714, 0.65142857, 0.62857143, 0.62285714, 0.64      ,\n",
       "       0.64      , 0.65142857, 0.63428571, 0.61714286, 0.64      ])"
      ]
     },
     "execution_count": 9,
     "metadata": {},
     "output_type": "execute_result"
    }
   ],
   "source": [
    "grid.cv_results_['mean_test_score']"
   ]
  },
  {
   "cell_type": "code",
   "execution_count": 10,
   "id": "056a9d41-1bae-4dfc-a4c4-7269d2d89d88",
   "metadata": {},
   "outputs": [
    {
     "data": {
      "text/plain": [
       "[{'n_neighbors': 1},\n",
       " {'n_neighbors': 2},\n",
       " {'n_neighbors': 3},\n",
       " {'n_neighbors': 4},\n",
       " {'n_neighbors': 5},\n",
       " {'n_neighbors': 6},\n",
       " {'n_neighbors': 7},\n",
       " {'n_neighbors': 8},\n",
       " {'n_neighbors': 9},\n",
       " {'n_neighbors': 10},\n",
       " {'n_neighbors': 11},\n",
       " {'n_neighbors': 12},\n",
       " {'n_neighbors': 13},\n",
       " {'n_neighbors': 14},\n",
       " {'n_neighbors': 15},\n",
       " {'n_neighbors': 16},\n",
       " {'n_neighbors': 17},\n",
       " {'n_neighbors': 18},\n",
       " {'n_neighbors': 19},\n",
       " {'n_neighbors': 20}]"
      ]
     },
     "execution_count": 10,
     "metadata": {},
     "output_type": "execute_result"
    }
   ],
   "source": [
    "grid.cv_results_['params']"
   ]
  },
  {
   "cell_type": "code",
   "execution_count": 11,
   "id": "79a56864-5cfd-4359-be87-8d13997a0ef1",
   "metadata": {},
   "outputs": [
    {
     "data": {
      "text/plain": [
       "(0.6514285714285715, {'n_neighbors': 12})"
      ]
     },
     "execution_count": 11,
     "metadata": {},
     "output_type": "execute_result"
    }
   ],
   "source": [
    "grid.best_score_, grid.best_params_"
   ]
  },
  {
   "cell_type": "code",
   "execution_count": 13,
   "id": "36afca61-92f9-4578-a118-d3552769437f",
   "metadata": {},
   "outputs": [],
   "source": [
    "knn_model = grid.best_estimator_"
   ]
  },
  {
   "cell_type": "code",
   "execution_count": 17,
   "id": "d8b58770-9b11-4372-b628-647f10df0aff",
   "metadata": {},
   "outputs": [
    {
     "data": {
      "text/plain": [
       "GridSearchCV(cv=10, estimator=DecisionTreeClassifier(),\n",
       "             param_grid={'criterion': ['gini', 'entropy'],\n",
       "                         'max_depth': range(1, 21),\n",
       "                         'min_samples_leaf': range(1, 11)})"
      ]
     },
     "execution_count": 17,
     "metadata": {},
     "output_type": "execute_result"
    }
   ],
   "source": [
    "clf = DecisionTreeClassifier()\n",
    "params = {\n",
    "    'max_depth': range(1, 21),\n",
    "    'min_samples_leaf': range(1, 11),\n",
    "    'criterion': ['gini', 'entropy']\n",
    "}\n",
    "grid = GridSearchCV(clf, params, cv=10)\n",
    "grid.fit(X_train, y_train)"
   ]
  },
  {
   "cell_type": "code",
   "execution_count": 23,
   "id": "ba5a78f2-2b70-4233-9029-d1f3d198e0b7",
   "metadata": {},
   "outputs": [
    {
     "data": {
      "text/html": [
       "<div>\n",
       "<style scoped>\n",
       "    .dataframe tbody tr th:only-of-type {\n",
       "        vertical-align: middle;\n",
       "    }\n",
       "\n",
       "    .dataframe tbody tr th {\n",
       "        vertical-align: top;\n",
       "    }\n",
       "\n",
       "    .dataframe thead th {\n",
       "        text-align: right;\n",
       "    }\n",
       "</style>\n",
       "<table border=\"1\" class=\"dataframe\">\n",
       "  <thead>\n",
       "    <tr style=\"text-align: right;\">\n",
       "      <th></th>\n",
       "      <th>criterion</th>\n",
       "      <th>max_depth</th>\n",
       "      <th>min_samples_leaf</th>\n",
       "      <th>score</th>\n",
       "    </tr>\n",
       "  </thead>\n",
       "  <tbody>\n",
       "    <tr>\n",
       "      <th>225</th>\n",
       "      <td>entropy</td>\n",
       "      <td>3</td>\n",
       "      <td>6</td>\n",
       "      <td>0.559477</td>\n",
       "    </tr>\n",
       "    <tr>\n",
       "      <th>17</th>\n",
       "      <td>gini</td>\n",
       "      <td>2</td>\n",
       "      <td>8</td>\n",
       "      <td>0.565033</td>\n",
       "    </tr>\n",
       "    <tr>\n",
       "      <th>18</th>\n",
       "      <td>gini</td>\n",
       "      <td>2</td>\n",
       "      <td>9</td>\n",
       "      <td>0.565033</td>\n",
       "    </tr>\n",
       "    <tr>\n",
       "      <th>23</th>\n",
       "      <td>gini</td>\n",
       "      <td>3</td>\n",
       "      <td>4</td>\n",
       "      <td>0.565359</td>\n",
       "    </tr>\n",
       "    <tr>\n",
       "      <th>24</th>\n",
       "      <td>gini</td>\n",
       "      <td>3</td>\n",
       "      <td>5</td>\n",
       "      <td>0.565359</td>\n",
       "    </tr>\n",
       "    <tr>\n",
       "      <th>...</th>\n",
       "      <td>...</td>\n",
       "      <td>...</td>\n",
       "      <td>...</td>\n",
       "      <td>...</td>\n",
       "    </tr>\n",
       "    <tr>\n",
       "      <th>140</th>\n",
       "      <td>gini</td>\n",
       "      <td>15</td>\n",
       "      <td>1</td>\n",
       "      <td>0.713072</td>\n",
       "    </tr>\n",
       "    <tr>\n",
       "      <th>130</th>\n",
       "      <td>gini</td>\n",
       "      <td>14</td>\n",
       "      <td>1</td>\n",
       "      <td>0.718627</td>\n",
       "    </tr>\n",
       "    <tr>\n",
       "      <th>180</th>\n",
       "      <td>gini</td>\n",
       "      <td>19</td>\n",
       "      <td>1</td>\n",
       "      <td>0.718954</td>\n",
       "    </tr>\n",
       "    <tr>\n",
       "      <th>160</th>\n",
       "      <td>gini</td>\n",
       "      <td>17</td>\n",
       "      <td>1</td>\n",
       "      <td>0.718954</td>\n",
       "    </tr>\n",
       "    <tr>\n",
       "      <th>300</th>\n",
       "      <td>entropy</td>\n",
       "      <td>11</td>\n",
       "      <td>1</td>\n",
       "      <td>0.718954</td>\n",
       "    </tr>\n",
       "  </tbody>\n",
       "</table>\n",
       "<p>400 rows × 4 columns</p>\n",
       "</div>"
      ],
      "text/plain": [
       "    criterion  max_depth  min_samples_leaf     score\n",
       "225   entropy          3                 6  0.559477\n",
       "17       gini          2                 8  0.565033\n",
       "18       gini          2                 9  0.565033\n",
       "23       gini          3                 4  0.565359\n",
       "24       gini          3                 5  0.565359\n",
       "..        ...        ...               ...       ...\n",
       "140      gini         15                 1  0.713072\n",
       "130      gini         14                 1  0.718627\n",
       "180      gini         19                 1  0.718954\n",
       "160      gini         17                 1  0.718954\n",
       "300   entropy         11                 1  0.718954\n",
       "\n",
       "[400 rows x 4 columns]"
      ]
     },
     "execution_count": 23,
     "metadata": {},
     "output_type": "execute_result"
    }
   ],
   "source": [
    "for params, score in zip(grid.cv_results_['params'], grid.cv_results_['mean_test_score']):\n",
    "    params['score'] = score\n",
    "\n",
    "pd.DataFrame(grid.cv_results_['params']).sort_values(by='score')"
   ]
  },
  {
   "cell_type": "markdown",
   "id": "06f98a38-f02a-438a-9f24-bb01260f9597",
   "metadata": {},
   "source": [
    "## Custom Scoring"
   ]
  },
  {
   "cell_type": "code",
   "execution_count": 22,
   "id": "07e44c51-3a79-411f-8f3c-d8e6b5a5804a",
   "metadata": {},
   "outputs": [
    {
     "data": {
      "text/plain": [
       "array([0.5       , 0.33333333, 1.        , 0.75      , 0.25      ,\n",
       "       0.8       , 0.5       , 0.4       , 0.5       , 0.5       ])"
      ]
     },
     "execution_count": 22,
     "metadata": {},
     "output_type": "execute_result"
    }
   ],
   "source": [
    "from sklearn.metrics import make_scorer, precision_score\n",
    "\n",
    "clf = KNeighborsClassifier(n_neighbors=5)\n",
    "cross_val_score(\n",
    "    clf,\n",
    "    X_train,\n",
    "    y_train,\n",
    "    scoring=make_scorer(precision_score, pos_label='manual'),\n",
    "    cv=10\n",
    ")"
   ]
  },
  {
   "cell_type": "markdown",
   "id": "85c0b69e-cfac-43bd-8772-28004a202240",
   "metadata": {},
   "source": [
    "You can use the same `scoring` keyword argument with `GridSearchCV`"
   ]
  }
 ],
 "metadata": {
  "kernelspec": {
   "display_name": "Python 3",
   "language": "python",
   "name": "python3"
  },
  "language_info": {
   "codemirror_mode": {
    "name": "ipython",
    "version": 3
   },
   "file_extension": ".py",
   "mimetype": "text/x-python",
   "name": "python",
   "nbconvert_exporter": "python",
   "pygments_lexer": "ipython3",
   "version": "3.8.5"
  }
 },
 "nbformat": 4,
 "nbformat_minor": 5
}
